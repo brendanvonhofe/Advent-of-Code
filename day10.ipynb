{
 "cells": [
  {
   "cell_type": "code",
   "execution_count": 5,
   "metadata": {},
   "outputs": [
    {
     "data": {
      "text/plain": [
       "raw_input: String =\n",
       "83\n",
       "69\n",
       "170\n",
       "56\n",
       "43\n",
       "111\n",
       "117\n",
       "135\n",
       "136\n",
       "176\n",
       "154\n",
       "65\n",
       "107\n",
       "169\n",
       "141\n",
       "151\n",
       "158\n",
       "134\n",
       "108\n",
       "143\n",
       "114\n",
       "104\n",
       "49\n",
       "55\n",
       "72\n",
       "73\n",
       "144\n",
       "13\n",
       "35\n",
       "152\n",
       "98\n",
       "133\n",
       "31\n",
       "44\n",
       "150\n",
       "70\n",
       "118\n",
       "64\n",
       "39\n",
       "137\n",
       "142\n",
       "28\n",
       "130\n",
       "167\n",
       "101\n",
       "100\n",
       "120\n",
       "79\n",
       "153\n",
       "157\n",
       "89\n",
       "163\n",
       "177\n",
       "3\n",
       "1\n",
       "38\n",
       "16\n",
       "128\n",
       "18\n",
       "62\n",
       "76\n",
       "78\n",
       "17\n",
       "63\n",
       "160\n",
       "59\n",
       "175\n",
       "168\n",
       "54\n",
       "34\n",
       "22\n",
       "174\n",
       "53\n",
       "25\n",
       "129\n",
       "90\n",
       "42\n",
       "119\n",
       "92\n",
       "173\n",
       "4\n",
       "166\n",
       "19\n",
       "2\n",
       "121\n",
       "7\n",
       "71\n",
       "99\n",
       "66\n",
       "46\n",
       "124\n",
       "86\n",
       "127\n",
       "159\n",
       "12\n",
       "91\n",
       "140\n",
       "52\n",
       "80\n",
       "45\n",
       "33\n",
       "9\n",
       "8\n",
       "77\n",
       "147\n",
       "32\n",
       "95\n"
      ]
     },
     "execution_count": 5,
     "metadata": {},
     "output_type": "execute_result"
    }
   ],
   "source": [
    "val raw_input = \"\"\"83\n",
    "69\n",
    "170\n",
    "56\n",
    "43\n",
    "111\n",
    "117\n",
    "135\n",
    "136\n",
    "176\n",
    "154\n",
    "65\n",
    "107\n",
    "169\n",
    "141\n",
    "151\n",
    "158\n",
    "134\n",
    "108\n",
    "143\n",
    "114\n",
    "104\n",
    "49\n",
    "55\n",
    "72\n",
    "73\n",
    "144\n",
    "13\n",
    "35\n",
    "152\n",
    "98\n",
    "133\n",
    "31\n",
    "44\n",
    "150\n",
    "70\n",
    "118\n",
    "64\n",
    "39\n",
    "137\n",
    "142\n",
    "28\n",
    "130\n",
    "167\n",
    "101\n",
    "100\n",
    "120\n",
    "79\n",
    "153\n",
    "157\n",
    "89\n",
    "163\n",
    "177\n",
    "3\n",
    "1\n",
    "38\n",
    "16\n",
    "128\n",
    "18\n",
    "62\n",
    "76\n",
    "78\n",
    "17\n",
    "63\n",
    "160\n",
    "59\n",
    "175\n",
    "168\n",
    "54\n",
    "34\n",
    "22\n",
    "174\n",
    "53\n",
    "25\n",
    "129\n",
    "90\n",
    "42\n",
    "119\n",
    "92\n",
    "173\n",
    "4\n",
    "166\n",
    "19\n",
    "2\n",
    "121\n",
    "7\n",
    "71\n",
    "99\n",
    "66\n",
    "46\n",
    "124\n",
    "86\n",
    "127\n",
    "159\n",
    "12\n",
    "91\n",
    "140\n",
    "52\n",
    "80\n",
    "45\n",
    "33\n",
    "9\n",
    "8\n",
    "77\n",
    "147\n",
    "32\n",
    "95\"\"\""
   ]
  },
  {
   "cell_type": "code",
   "execution_count": 6,
   "metadata": {},
   "outputs": [
    {
     "data": {
      "text/plain": [
       "puzzle_input: Array[Int] = Array(0, 1, 2, 3, 4, 7, 8, 9, 12, 13, 16, 17, 18, 19, 22, 25, 28, 31, 32, 33, 34, 35, 38, 39, 42, 43, 44, 45, 46, 49, 52, 53, 54, 55, 56, 59, 62, 63, 64, 65, 66, 69, 70, 71, 72, 73, 76, 77, 78, 79, 80, 83, 86, 89, 90, 91, 92, 95, 98, 99, 100, 101, 104, 107, 108, 111, 114, 117, 118, 119, 120, 121, 124, 127, 128, 129, 130, 133, 134, 135, 136, 137, 140, 141, 142, 143, 144, 147, 150, 151, 152, 153, 154, 157, 158, 159, 160, 163, 166, 167, 168, 169, 170, 173, 174, 175, 176, 177, 180)\n",
       "puzzle_input: Array[Int] = [I@b740426\n"
      ]
     },
     "execution_count": 6,
     "metadata": {},
     "output_type": "execute_result"
    }
   ],
   "source": [
    "var puzzle_input = raw_input.split(\"\\n\").map(_.toInt).sorted\n",
    "puzzle_input = Array(0) ++ puzzle_input ++ Array(puzzle_input.max + 3)"
   ]
  },
  {
   "cell_type": "markdown",
   "metadata": {},
   "source": [
    "# Part 1"
   ]
  },
  {
   "cell_type": "code",
   "execution_count": 7,
   "metadata": {},
   "outputs": [
    {
     "data": {
      "text/plain": [
       "difference_map: scala.collection.immutable.Map[Int,Int] = Map(1 -> 72, 3 -> 36)\n",
       "res0: Int = 2592\n"
      ]
     },
     "execution_count": 7,
     "metadata": {},
     "output_type": "execute_result"
    }
   ],
   "source": [
    "val difference_map = puzzle_input.sliding(2)\n",
    "            .map(_.reduceLeft((x, y) => y - x))\n",
    "            .toList\n",
    "            .groupBy((x) => x)\n",
    "            .map((x) => {\n",
    "                val (value, list) = x\n",
    "                (value, list.length)\n",
    "            })\n",
    "difference_map(1) * difference_map(3)"
   ]
  },
  {
   "cell_type": "markdown",
   "metadata": {},
   "source": [
    "# Part 2"
   ]
  },
  {
   "cell_type": "code",
   "execution_count": null,
   "metadata": {},
   "outputs": [],
   "source": [
    "def count_arrangements() {}"
   ]
  },
  {
   "cell_type": "code",
   "execution_count": 8,
   "metadata": {},
   "outputs": [
    {
     "data": {
      "text/plain": [
       "i: Int = 72\n",
       "removables: scala.collection.mutable.ListBuffer[Int] = ListBuffer(1, 2, 8, 17, 18, 32, 33, 43, 44, 53, 54, 63, 64, 70, 71, 77, 78, 90, 91, 99, 100, 118, 119, 128, 129, 134, 135, 141, 142, 151, 152, 158, 159, 167, 168, 174, 175)\n",
       "adapter_list: Array[Int] = Array(0, 3, 4, 7, 9, 12, 13, 16, 19, 22, 25, 28, 31, 34, 35, 38, 39, 42, 45, 46, 49, 52, 55, 56, 59, 62, 65, 66, 69, 72, 73, 76, 79, 80, 83, 86, 89, 92, 95, 98, 101, 104, 107, 108, 111, 114, 117, 120, 121, 124, 127, 130, 133, 136, 137, 140, 143, 144, 147, 150, 153, 154, 157, 160, 163, 166, 169, 170, 173, 176, 177, 180)\n"
      ]
     },
     "execution_count": 8,
     "metadata": {},
     "output_type": "execute_result"
    }
   ],
   "source": [
    "var i = 2\n",
    "var removables = scala.collection.mutable.ListBuffer[Int]()\n",
    "var adapter_list = puzzle_input.clone\n",
    "while (i < adapter_list.length) {\n",
    "    if (adapter_list(i) - adapter_list(i-2) <= 3) {\n",
    "        removables.append(adapter_list(i-1))\n",
    "        adapter_list = adapter_list.diff(Array(adapter_list(i-1)))\n",
    "        i -= 1\n",
    "    }\n",
    "    i += 1\n",
    "}"
   ]
  },
  {
   "cell_type": "code",
   "execution_count": 2,
   "metadata": {},
   "outputs": [
    {
     "data": {
      "text/plain": [
       "recursive_factorial: (number: BigInt)BigInt\n"
      ]
     },
     "execution_count": 2,
     "metadata": {},
     "output_type": "execute_result"
    }
   ],
   "source": [
    "def recursive_factorial(number:BigInt) : BigInt = {\n",
    "    if (number == 0)\n",
    "      return 1\n",
    "    number * recursive_factorial (number - 1)\n",
    "}"
   ]
  },
  {
   "cell_type": "code",
   "execution_count": 17,
   "metadata": {},
   "outputs": [
    {
     "data": {
      "text/plain": [
       "n_choose_k: (n: BigInt, k: BigInt)BigInt\n"
      ]
     },
     "execution_count": 17,
     "metadata": {},
     "output_type": "execute_result"
    }
   ],
   "source": [
    "def n_choose_k(n: BigInt, k: BigInt) : BigInt = {\n",
    "    val n_bang = recursive_factorial(n)\n",
    "    val k_bang = recursive_factorial(k)\n",
    "    val nk_bang = recursive_factorial(n-k)\n",
    "    n_bang / (k_bang * nk_bang)\n",
    "}"
   ]
  },
  {
   "cell_type": "code",
   "execution_count": 23,
   "metadata": {},
   "outputs": [
    {
     "data": {
      "text/plain": [
       "n: BigInt = 137438953472\n",
       "res15: BigInt = 137438953472\n"
      ]
     },
     "execution_count": 23,
     "metadata": {},
     "output_type": "execute_result"
    }
   ],
   "source": [
    "var n: BigInt = 1\n",
    "(1 to removables.length).foreach((i) => {\n",
    "//     println(i)\n",
    "    val nck = n_choose_k(removables.length, i)\n",
    "//     println(nck)\n",
    "//     println(n)\n",
    "    n += nck\n",
    "//     println(n, nck)\n",
    "})\n",
    "n"
   ]
  },
  {
   "cell_type": "code",
   "execution_count": 14,
   "metadata": {},
   "outputs": [
    {
     "data": {
      "text/plain": [
       "res7: BigInt = 37\n"
      ]
     },
     "execution_count": 14,
     "metadata": {},
     "output_type": "execute_result"
    }
   ],
   "source": [
    "// 137438953472 is too low!"
   ]
  },
  {
   "cell_type": "code",
   "execution_count": null,
   "metadata": {},
   "outputs": [],
   "source": [
    "348330136"
   ]
  }
 ],
 "metadata": {
  "kernelspec": {
   "display_name": "spylon-kernel",
   "language": "scala",
   "name": "spylon-kernel"
  },
  "language_info": {
   "codemirror_mode": "text/x-scala",
   "file_extension": ".scala",
   "help_links": [
    {
     "text": "MetaKernel Magics",
     "url": "https://metakernel.readthedocs.io/en/latest/source/README.html"
    }
   ],
   "mimetype": "text/x-scala",
   "name": "scala",
   "pygments_lexer": "scala",
   "version": "0.4.1"
  }
 },
 "nbformat": 4,
 "nbformat_minor": 4
}
